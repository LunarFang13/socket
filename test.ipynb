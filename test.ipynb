{
 "cells": [
  {
   "cell_type": "code",
   "execution_count": 1,
   "metadata": {},
   "outputs": [],
   "source": [
    "outlook = 'overcast,overcast,overcast,overcast,rainy,rainy,rainy,rainy,rainy,sunny,sunny,sunny,sunny,sunny'.split(',')\n",
    "temp = 'hot,cool,mild,hot,mild,cool,cool,mild,mild,hot,hot,mild,cool,mild'.split(',')\n",
    "humidity = 'high,normal,high,normal,high,normal,normal,normal,high,high,high,high,normal,normal'.split(',')\n",
    "windy = 'FALSE,TRUE,TRUE,FALSE,FALSE,FALSE,TRUE,FALSE,TRUE,FALSE,TRUE,FALSE,FALSE,TRUE'.split(',')\n",
    "play = 'yes,yes,yes,yes,yes,yes,no,yes,no,no,no,no,yes,yes'.split(',')"
   ]
  },
  {
   "cell_type": "code",
   "execution_count": 2,
   "metadata": {},
   "outputs": [],
   "source": [
    "import numpy as np\n",
    "import pandas as pd\n",
    "eps = np.finfo(float).eps\n",
    "from numpy import log2 as log"
   ]
  },
  {
   "cell_type": "code",
   "execution_count": 3,
   "metadata": {},
   "outputs": [],
   "source": [
    "dataset ={'outlook':outlook,'temp':temp,'humidity':humidity,'windy':windy,'play':play}\n",
    "df = pd.DataFrame(dataset,columns=['outlook','temp','humidity','windy','play'])"
   ]
  },
  {
   "cell_type": "code",
   "execution_count": 17,
   "metadata": {},
   "outputs": [],
   "source": [
    "\n",
    "def find_entropy(df):\n",
    "    Class = df.keys()[-1]   #To make the code generic, changing target variable class name\n",
    "    entropy = 0\n",
    "    values = df[Class].unique()\n",
    "    for value in values:\n",
    "        fraction = df[Class].value_counts()[value]/len(df[Class])\n",
    "        entropy += -fraction*np.log2(fraction)\n",
    "    return entropy\n",
    "  \n",
    "  \n",
    "def find_entropy_attribute(df,attribute):\n",
    "  Class = df.keys()[-1]   #To make the code generic, changing target variable class name\n",
    "  target_variables = df[Class].unique()  #This gives all 'Yes' and 'No'\n",
    "  variables = df[attribute].unique()    #This gives different features in that attribute (like 'Hot','Cold' in Temperature)\n",
    "  entropy2 = 0\n",
    "  for variable in variables:\n",
    "      entropy = 0\n",
    "      for target_variable in target_variables:\n",
    "          num = len(df[attribute][df[attribute]==variable][df[Class] ==target_variable])\n",
    "          print(attribute,variable,target_variable)\n",
    "          \n",
    "          den = len(df[attribute][df[attribute]==variable])\n",
    "          print(num,den)\n",
    "          fraction = num/(den+eps)\n",
    "          entropy += -fraction*log(fraction+eps)\n",
    "      fraction2 = den/len(df)\n",
    "      entropy2 += -fraction2*entropy\n",
    "  return abs(entropy2)\n",
    "\n",
    "\n",
    "def find_winner(df):\n",
    "    Entropy_att = []\n",
    "    IG = []\n",
    "    for key in df.keys()[:-1]:\n",
    "#         Entropy_att.append(find_entropy_attribute(df,key))\n",
    "        IG.append(find_entropy(df)-find_entropy_attribute(df,key))\n",
    "    return df.keys()[:-1][np.argmax(IG)]\n",
    "  \n",
    "  \n",
    "def get_subtable(df, node,value):\n",
    "  return df[df[node] == value].reset_index(drop=True)\n",
    "\n",
    "\n",
    "def buildTree(df,tree=None): \n",
    "    Class = df.keys()[-1]   #To make the code generic, changing target variable class name\n",
    "    \n",
    "    #Here we build our decision tree\n",
    "\n",
    "    #Get attribute with maximum information gain\n",
    "    node = find_winner(df)\n",
    "    \n",
    "    #Get distinct value of that attribute e.g Salary is node and Low,Med and High are values\n",
    "    attValue = np.unique(df[node])\n",
    "    \n",
    "    #Create an empty dictionary to create tree    \n",
    "    if tree is None:                    \n",
    "        tree={}\n",
    "        tree[node] = {}\n",
    "    \n",
    "   #We make loop to construct a tree by calling this function recursively. \n",
    "    #In this we check if the subset is pure and stops if it is pure. \n",
    "\n",
    "    for value in attValue:\n",
    "        \n",
    "        subtable = get_subtable(df,node,value)\n",
    "        clValue,counts = np.unique(subtable['play'],return_counts=True)                       \n",
    "        \n",
    "        if len(counts)==1:#Checking purity of subset\n",
    "            tree[node][value] = clValue[0]                                                    \n",
    "        else:        \n",
    "            tree[node][value] = buildTree(subtable) #Calling the function recursively \n",
    "                   \n",
    "    return tree\n",
    "  \n",
    "  "
   ]
  },
  {
   "cell_type": "code",
   "execution_count": 18,
   "metadata": {},
   "outputs": [
    {
     "name": "stdout",
     "output_type": "stream",
     "text": [
      "outlook overcast yes\n"
     ]
    },
    {
     "ename": "UnboundLocalError",
     "evalue": "cannot access local variable 'den' where it is not associated with a value",
     "output_type": "error",
     "traceback": [
      "\u001b[1;31m---------------------------------------------------------------------------\u001b[0m",
      "\u001b[1;31mUnboundLocalError\u001b[0m                         Traceback (most recent call last)",
      "Cell \u001b[1;32mIn[18], line 1\u001b[0m\n\u001b[1;32m----> 1\u001b[0m t \u001b[39m=\u001b[39m buildTree(df)\n\u001b[0;32m      3\u001b[0m \u001b[39mimport\u001b[39;00m \u001b[39mpprint\u001b[39;00m\n\u001b[0;32m      4\u001b[0m pprint\u001b[39m.\u001b[39mpprint(t)\n",
      "Cell \u001b[1;32mIn[17], line 49\u001b[0m, in \u001b[0;36mbuildTree\u001b[1;34m(df, tree)\u001b[0m\n\u001b[0;32m     44\u001b[0m Class \u001b[39m=\u001b[39m df\u001b[39m.\u001b[39mkeys()[\u001b[39m-\u001b[39m\u001b[39m1\u001b[39m]   \u001b[39m#To make the code generic, changing target variable class name\u001b[39;00m\n\u001b[0;32m     46\u001b[0m \u001b[39m#Here we build our decision tree\u001b[39;00m\n\u001b[0;32m     47\u001b[0m \n\u001b[0;32m     48\u001b[0m \u001b[39m#Get attribute with maximum information gain\u001b[39;00m\n\u001b[1;32m---> 49\u001b[0m node \u001b[39m=\u001b[39m find_winner(df)\n\u001b[0;32m     51\u001b[0m \u001b[39m#Get distinct value of that attribute e.g Salary is node and Low,Med and High are values\u001b[39;00m\n\u001b[0;32m     52\u001b[0m attValue \u001b[39m=\u001b[39m np\u001b[39m.\u001b[39munique(df[node])\n",
      "Cell \u001b[1;32mIn[17], line 35\u001b[0m, in \u001b[0;36mfind_winner\u001b[1;34m(df)\u001b[0m\n\u001b[0;32m     32\u001b[0m     IG \u001b[39m=\u001b[39m []\n\u001b[0;32m     33\u001b[0m     \u001b[39mfor\u001b[39;00m key \u001b[39min\u001b[39;00m df\u001b[39m.\u001b[39mkeys()[:\u001b[39m-\u001b[39m\u001b[39m1\u001b[39m]:\n\u001b[0;32m     34\u001b[0m \u001b[39m#         Entropy_att.append(find_entropy_attribute(df,key))\u001b[39;00m\n\u001b[1;32m---> 35\u001b[0m         IG\u001b[39m.\u001b[39mappend(find_entropy(df)\u001b[39m-\u001b[39mfind_entropy_attribute(df,key))\n\u001b[0;32m     36\u001b[0m     \u001b[39mreturn\u001b[39;00m df\u001b[39m.\u001b[39mkeys()[:\u001b[39m-\u001b[39m\u001b[39m1\u001b[39m][np\u001b[39m.\u001b[39margmax(IG)]\n",
      "Cell \u001b[1;32mIn[17], line 21\u001b[0m, in \u001b[0;36mfind_entropy_attribute\u001b[1;34m(df, attribute)\u001b[0m\n\u001b[0;32m     19\u001b[0m num \u001b[39m=\u001b[39m \u001b[39mlen\u001b[39m(df[attribute][df[attribute]\u001b[39m==\u001b[39mvariable][df[Class] \u001b[39m==\u001b[39mtarget_variable])\n\u001b[0;32m     20\u001b[0m \u001b[39mprint\u001b[39m(attribute,variable,target_variable)\n\u001b[1;32m---> 21\u001b[0m \u001b[39mprint\u001b[39m(num,den)\n\u001b[0;32m     22\u001b[0m den \u001b[39m=\u001b[39m \u001b[39mlen\u001b[39m(df[attribute][df[attribute]\u001b[39m==\u001b[39mvariable])\n\u001b[0;32m     23\u001b[0m fraction \u001b[39m=\u001b[39m num\u001b[39m/\u001b[39m(den\u001b[39m+\u001b[39meps)\n",
      "\u001b[1;31mUnboundLocalError\u001b[0m: cannot access local variable 'den' where it is not associated with a value"
     ]
    }
   ],
   "source": [
    "t = buildTree(df)\n",
    "\n",
    "import pprint\n",
    "pprint.pprint(t)"
   ]
  }
 ],
 "metadata": {
  "kernelspec": {
   "display_name": "Python 3",
   "language": "python",
   "name": "python3"
  },
  "language_info": {
   "codemirror_mode": {
    "name": "ipython",
    "version": 3
   },
   "file_extension": ".py",
   "mimetype": "text/x-python",
   "name": "python",
   "nbconvert_exporter": "python",
   "pygments_lexer": "ipython3",
   "version": "3.11.0"
  },
  "orig_nbformat": 4
 },
 "nbformat": 4,
 "nbformat_minor": 2
}
